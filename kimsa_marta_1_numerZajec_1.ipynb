{
  "nbformat": 4,
  "nbformat_minor": 0,
  "metadata": {
    "colab": {
      "name": "kimsa_marta_1_numerZajec_1.ipynb",
      "provenance": [],
      "collapsed_sections": []
    },
    "kernelspec": {
      "name": "python3",
      "display_name": "Python 3"
    },
    "language_info": {
      "name": "python"
    }
  },
  "cells": [
    {
      "cell_type": "code",
      "metadata": {
        "id": "7t-zulVND5-V",
        "colab": {
          "base_uri": "https://localhost:8080/"
        },
        "outputId": "81008f45-73b2-429b-d363-0bcd8e72a15c"
      },
      "source": [
        "#Zadanie 2\n",
        "\n",
        "print(\"Lorem ipsum dolor sit amet, consectetur adipiscing elit,\\nsed do eiusmod tempor incididunt ut labore \\net dolore magna aliqua.\")"
      ],
      "execution_count": 1,
      "outputs": [
        {
          "output_type": "stream",
          "name": "stdout",
          "text": [
            "Lorem ipsum dolor sit amet, consectetur adipiscing elit,\n",
            "sed do eiusmod tempor incididunt ut labore \n",
            "et dolore magna aliqua.\n"
          ]
        }
      ]
    },
    {
      "cell_type": "code",
      "metadata": {
        "colab": {
          "base_uri": "https://localhost:8080/"
        },
        "id": "7L0fAgdkf-1K",
        "outputId": "bc2a5f40-eea9-4756-ae98-9103bca0830a"
      },
      "source": [
        "#Zadanie 3\n",
        "\n",
        "name = \"Marta\"\n",
        "age = 21\n",
        "height_in_meters = 1.83\n",
        "is_student = True\n",
        "\n",
        "print(name, age, height_in_meters, is_student)\n"
      ],
      "execution_count": 2,
      "outputs": [
        {
          "output_type": "stream",
          "name": "stdout",
          "text": [
            "Marta 21 1.83 True\n"
          ]
        }
      ]
    },
    {
      "cell_type": "code",
      "metadata": {
        "colab": {
          "base_uri": "https://localhost:8080/"
        },
        "id": "LCkgfuaaGKwG",
        "outputId": "f2d21ba3-ef38-425a-bd9e-22a373f501c8"
      },
      "source": [
        "#Zadanie 4\n",
        "\n",
        "x = 13\n",
        "y = 7\n",
        "\n",
        "#suma\n",
        "print(\"x + y =\", x + y)\n",
        "\n",
        "#różnica\n",
        "print(\"x - y =\", x - y)\n",
        "\n",
        "#iloczyn\n",
        "print(\"x * y =\", x * y)\n",
        "\n",
        "#iloraz\n",
        "print(\"x / y =\", x / y)\n",
        "\n",
        "#modulo\n",
        "print(\"x mod y =\", x % y)"
      ],
      "execution_count": 5,
      "outputs": [
        {
          "output_type": "stream",
          "name": "stdout",
          "text": [
            "x + y = 20\n",
            "x - y = 6\n",
            "x * y = 91\n",
            "x / y = 1.8571428571428572\n",
            "x mod y = 6\n"
          ]
        }
      ]
    },
    {
      "cell_type": "code",
      "metadata": {
        "colab": {
          "base_uri": "https://localhost:8080/"
        },
        "id": "_F8T0eHgIPfl",
        "outputId": "4f8846d7-e349-416b-bdb3-7be31f237b1d"
      },
      "source": [
        "#Zadanie 5\n",
        "\n",
        "my_int = 5\n",
        "my_float = 5.1\n",
        "\n",
        "print(\"Liczby 1 i liczba 2 sa rowne:\", my_int == my_float)\n",
        "print(\"Liczby 1 i liczba 2 sa rozne:\", my_int != my_float)\n",
        "print(\"Liczba 1 jest wieksza lub rowna liczbie 2:\", my_int >= my_float)\n",
        "print(\"Liczba 1 jest mniejsza lub rowna liczbie 2:\", my_int <= my_float)\n",
        "print(\"Liczba 1 jest mniejsza niz liczba 2:\", my_int < my_float)\n",
        "print(\"Liczba 1 jest wieksza niz liczba 2:\", my_int > my_float)"
      ],
      "execution_count": 11,
      "outputs": [
        {
          "output_type": "stream",
          "name": "stdout",
          "text": [
            "Liczby 1 i liczba 2 sa rowne: False\n",
            "Liczby 1 i liczba 2 sa rozne: True\n",
            "Liczba 1 jest wieksza lub rowna liczbie 2: False\n",
            "Liczba 1 jest mniejsza lub rowna liczbie 2: True\n",
            "Liczba 1 jest mniejsza niz liczba 2: True\n",
            "Liczba 1 jest wieksza niz liczba 2: False\n"
          ]
        }
      ]
    },
    {
      "cell_type": "code",
      "metadata": {
        "colab": {
          "base_uri": "https://localhost:8080/"
        },
        "id": "GrqD2vWMJM8d",
        "outputId": "b829b118-4358-44ff-9fc7-476d3c1a9f9c"
      },
      "source": [
        "#Zadanie 6\n",
        "\n",
        "zmienna_pierwsza = \"pierwsza zmienna\"\n",
        "zmienna_druga = \"druga zmienna\"\n",
        "print(\"<-\", zmienna_pierwsza, \"|\", zmienna_druga, \"->\")"
      ],
      "execution_count": 12,
      "outputs": [
        {
          "output_type": "stream",
          "name": "stdout",
          "text": [
            "<- pierwsza zmienna | druga zmienna ->\n"
          ]
        }
      ]
    }
  ]
}